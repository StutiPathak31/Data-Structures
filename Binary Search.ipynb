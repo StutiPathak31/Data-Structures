{
 "cells": [
  {
   "cell_type": "markdown",
   "metadata": {},
   "source": [
    "# <center>Binary Search and Its Variants</center>"
   ]
  },
  {
   "cell_type": "markdown",
   "metadata": {},
   "source": [
    "### 1. Ascending Sorted Array"
   ]
  },
  {
   "cell_type": "markdown",
   "metadata": {},
   "source": [
    "Compare element at mid with key\n",
    "- If key equal to [mid] element -> return mid\n",
    "- If key less than [mid] -> move left of mid\n",
    "- If key greater than [mid] -> move right "
   ]
  },
  {
   "cell_type": "code",
   "execution_count": 11,
   "metadata": {},
   "outputs": [
    {
     "name": "stdout",
     "output_type": "stream",
     "text": [
      "0 5 2\n",
      "0 1 0\n"
     ]
    },
    {
     "data": {
      "text/plain": [
       "0"
      ]
     },
     "execution_count": 11,
     "metadata": {},
     "output_type": "execute_result"
    }
   ],
   "source": [
    "def BinarySearch(arr, key):\n",
    "    start = 0\n",
    "    end = len(arr) - 1\n",
    "    \n",
    "    while end >= start:\n",
    "        mid = (start + end)//2 # start + (end - start) // 2\n",
    "        print(start, end, mid)\n",
    "        if arr[mid] < key:\n",
    "            start = mid + 1\n",
    "        elif arr[mid] > key:\n",
    "            end = mid - 1\n",
    "        else:\n",
    "            return mid\n",
    "    return -1\n",
    "\n",
    "arr = [1, 2, 3, 4, 5, 6]\n",
    "key = 1\n",
    "BinarySearch(arr, key)\n",
    "        \n",
    "    "
   ]
  },
  {
   "cell_type": "markdown",
   "metadata": {},
   "source": [
    "### 2. Descending Sorted Array"
   ]
  },
  {
   "cell_type": "markdown",
   "metadata": {},
   "source": [
    "Compare element at mid with key\n",
    "\n",
    "- If key equal to [mid] element -> return mid\n",
    "- If key less than [mid] -> move right of mid\n",
    "- If key greater than [mid] -> move left"
   ]
  },
  {
   "cell_type": "code",
   "execution_count": 12,
   "metadata": {},
   "outputs": [
    {
     "name": "stdout",
     "output_type": "stream",
     "text": [
      "0 4 2\n",
      "3 4 3\n",
      "4 4 4\n"
     ]
    },
    {
     "data": {
      "text/plain": [
       "-1"
      ]
     },
     "execution_count": 12,
     "metadata": {},
     "output_type": "execute_result"
    }
   ],
   "source": [
    "def DescendingBS(arr, key):\n",
    "    start = 0\n",
    "    end = len(arr) - 1\n",
    "    \n",
    "    while start <= end:\n",
    "        mid = start + (end - start) //2\n",
    "        print(start, end, mid)\n",
    "        if arr[mid] > key:\n",
    "            start = mid + 1\n",
    "        elif arr[mid] < key:\n",
    "            end = mid - 1\n",
    "        else:\n",
    "            return mid\n",
    "    return -1\n",
    "\n",
    "arr = [5, 4, 3, 2, 1]\n",
    "key = 0\n",
    "DescendingBS(arr, key)"
   ]
  },
  {
   "cell_type": "markdown",
   "metadata": {},
   "source": [
    "### 3. Order Agnostic Search"
   ]
  },
  {
   "cell_type": "markdown",
   "metadata": {},
   "source": [
    "We are not aware whether array is sorted in ascending or descending order.\n",
    "\n",
    "- If only one element is there, check it with key\n",
    "- Compare first two elements to know whether array is ascending or descending and call accordingly either Ascending Binary Search or Descending Binary Search"
   ]
  },
  {
   "cell_type": "code",
   "execution_count": 13,
   "metadata": {},
   "outputs": [
    {
     "name": "stdout",
     "output_type": "stream",
     "text": [
      "0 4 2\n",
      "0 1 0\n",
      "-1\n",
      "0 4 2\n",
      "0 1 0\n",
      "1 1 1\n",
      "1\n"
     ]
    }
   ],
   "source": [
    "def OrderAS(arr, key):\n",
    "    if len(arr) == 1:\n",
    "        if arr[0] == key:\n",
    "            return 0\n",
    "        else:\n",
    "            return -1\n",
    "    else:\n",
    "        if arr[0] < arr[1]:\n",
    "            return BinarySearch(arr, key)\n",
    "        else:\n",
    "            return DescendingBS(arr, key)\n",
    "\n",
    "arr1 = [1, 2, 3, 4, 5]\n",
    "key1 = 0\n",
    "arr2 = [5, 4, 3, 2, 1]\n",
    "key2 = 4\n",
    "print(OrderAS(arr1, key1))\n",
    "print(OrderAS(arr2, key2))"
   ]
  },
  {
   "cell_type": "markdown",
   "metadata": {},
   "source": [
    "### 4. First Occurance of an element"
   ]
  },
  {
   "cell_type": "markdown",
   "metadata": {},
   "source": [
    "The main idea is to update result when key is found and **continue search in the left part** as we need to find the first index.\n",
    "\n",
    "- Initialise result as -1\n",
    "- If key == [mid] -> **update result** and search in its left\n",
    "- If key < [mid] -> move to left part\n",
    "- If key > [mid] -> move to right part"
   ]
  },
  {
   "cell_type": "code",
   "execution_count": 1,
   "metadata": {},
   "outputs": [
    {
     "name": "stdout",
     "output_type": "stream",
     "text": [
      "0 6 3\n",
      "0 2 1\n",
      "2 2 2\n"
     ]
    },
    {
     "data": {
      "text/plain": [
       "2"
      ]
     },
     "execution_count": 1,
     "metadata": {},
     "output_type": "execute_result"
    }
   ],
   "source": [
    "def FirstOccurance(arr, key):\n",
    "    low = 0\n",
    "    high = len(arr) - 1\n",
    "    \n",
    "    res = -1\n",
    "    while low <= high:\n",
    "        mid = low + (high - low) // 2\n",
    "        print(low, high, mid)\n",
    "        if key < arr[mid]:\n",
    "            high = mid - 1\n",
    "        elif key > arr[mid]:\n",
    "            low = mid + 1\n",
    "        else:\n",
    "            res = mid\n",
    "            high = mid - 1\n",
    "    return res\n",
    "\n",
    "arr = [2, 4, 10, 10, 10, 18, 20]\n",
    "key = 10\n",
    "FirstOccurance(arr, key)"
   ]
  },
  {
   "cell_type": "markdown",
   "metadata": {},
   "source": [
    "### 5. Last Occurance of an element"
   ]
  },
  {
   "cell_type": "markdown",
   "metadata": {},
   "source": [
    "The main idea is to update result when key is found and **continue search in the right part** as we need to find the last index.\n",
    "\n",
    "- Initialise result as -1\n",
    "- If key == [mid] -> update result and search in its right part\n",
    "- If key < [mid] -> move to left part\n",
    "- If key > [mid] -> move to right part"
   ]
  },
  {
   "cell_type": "code",
   "execution_count": 5,
   "metadata": {},
   "outputs": [
    {
     "name": "stdout",
     "output_type": "stream",
     "text": [
      "0 6 3\n",
      "4 6 5\n",
      "4 4 4\n"
     ]
    },
    {
     "data": {
      "text/plain": [
       "4"
      ]
     },
     "execution_count": 5,
     "metadata": {},
     "output_type": "execute_result"
    }
   ],
   "source": [
    "def LastOccurance(arr, key):\n",
    "    low = 0\n",
    "    high = len(arr) - 1\n",
    "    \n",
    "    res = -1\n",
    "    while low <= high:\n",
    "        mid = low + (high - low) // 2\n",
    "        print(low, high, mid)\n",
    "        if key < arr[mid]:\n",
    "            high = mid - 1\n",
    "        elif key > arr[mid]:\n",
    "            low = mid + 1\n",
    "        else:\n",
    "            res = mid\n",
    "            low = mid + 1\n",
    "    return res\n",
    "\n",
    "arr = [2, 4, 10, 10, 10, 18, 20]\n",
    "key = 10\n",
    "LastOccurance(arr, key)"
   ]
  },
  {
   "cell_type": "markdown",
   "metadata": {},
   "source": [
    "### 6. Count of an element in sorted array"
   ]
  },
  {
   "cell_type": "markdown",
   "metadata": {},
   "source": [
    "The count of an element present is **(index of last occurance - index of first occurance + 1)**"
   ]
  },
  {
   "cell_type": "code",
   "execution_count": 6,
   "metadata": {},
   "outputs": [
    {
     "name": "stdout",
     "output_type": "stream",
     "text": [
      "0 6 3\n",
      "4 6 5\n",
      "4 4 4\n",
      "0 6 3\n",
      "0 2 1\n",
      "2 2 2\n"
     ]
    },
    {
     "data": {
      "text/plain": [
       "3"
      ]
     },
     "execution_count": 6,
     "metadata": {},
     "output_type": "execute_result"
    }
   ],
   "source": [
    "def CountElement(arr, key):\n",
    "    return LastOccurance(arr, key) - FirstOccurance(arr, key) + 1\n",
    "\n",
    "arr = [2, 4, 10, 10, 10, 18, 20]\n",
    "key = 10\n",
    "CountElement(arr, key)"
   ]
  },
  {
   "cell_type": "markdown",
   "metadata": {},
   "source": [
    "### 7. Number of times sorted array is rotated"
   ]
  },
  {
   "cell_type": "markdown",
   "metadata": {},
   "source": [
    "The main idea here is to find the **index of the minimum element** in the array.\n",
    "\n",
    "- Compare the mid element with its adjacent\n",
    "- If mid element is less than both its neighbour then return mid\n",
    "- If low element is less than mid element -> array till mid is sorted -> move to right part\n",
    "- Otherwise search the left part of mid\n",
    "\n",
    "**NOTE: If array is left rotated then #rotation = (arraylen - indexofmin) % arraylen**"
   ]
  },
  {
   "cell_type": "code",
   "execution_count": 1,
   "metadata": {},
   "outputs": [
    {
     "name": "stdout",
     "output_type": "stream",
     "text": [
      "0 7 2 3 4\n"
     ]
    },
    {
     "data": {
      "text/plain": [
       "4"
      ]
     },
     "execution_count": 1,
     "metadata": {},
     "output_type": "execute_result"
    }
   ],
   "source": [
    "def NumberTimes(arr):\n",
    "    low = 0\n",
    "    high = len(arr) - 1\n",
    "    N = len(arr)\n",
    "    \n",
    "    while low <= high:\n",
    "        \n",
    "        if arr[low] <= arr[high]: # Dont forget this line\n",
    "            return low\n",
    "        \n",
    "        mid = low + (high - low)//2\n",
    "        prev = (mid - 1 + N) % N\n",
    "        next = (mid + 1) % N\n",
    "        print(low, high, prev, mid, next)\n",
    "        if arr[prev] > arr[mid] and  arr[mid] < arr[next]:\n",
    "            return mid\n",
    "        elif arr[low] <= arr[mid]:\n",
    "            low = mid + 1\n",
    "        else:\n",
    "            high = mid - 1\n",
    "            \n",
    "arr = [11, 12, 15, 18, 2, 5, 6, 8]\n",
    "NumberTimes(arr)\n",
    "\n",
    "# NOTE: If array is left rotatedted, then #rotation = (lenarray - indexofmin)%lenarray"
   ]
  },
  {
   "cell_type": "markdown",
   "metadata": {},
   "source": [
    "### 8. Find an element in rotated sorted array"
   ]
  },
  {
   "cell_type": "markdown",
   "metadata": {},
   "source": [
    "- Find pivot point (index of minimum element)\n",
    "- Search in left and right part of pivot separately using Binary Search"
   ]
  },
  {
   "cell_type": "code",
   "execution_count": 16,
   "metadata": {},
   "outputs": [
    {
     "name": "stdout",
     "output_type": "stream",
     "text": [
      "0 7 2 3 4\n",
      "0 3 1\n",
      "2 3 2\n",
      "3 3 3\n"
     ]
    },
    {
     "data": {
      "text/plain": [
       "-1"
      ]
     },
     "execution_count": 16,
     "metadata": {},
     "output_type": "execute_result"
    }
   ],
   "source": [
    "def FindRotated(arr, key):\n",
    "    pivot = NumberTimes(arr)\n",
    "    if key >= arr[0]:\n",
    "        return BinarySearch(arr[:pivot], key)\n",
    "    else:\n",
    "        return pivot + BinarySearch(arr[pivot:], key)\n",
    "\n",
    "arr = [11, 12, 15, 18, 2, 5, 6, 8]\n",
    "key = 19\n",
    "FindRotated(arr, key)"
   ]
  },
  {
   "cell_type": "markdown",
   "metadata": {},
   "source": [
    "### 9. Find an element in nearly sorted array\n",
    "\n",
    "An element which should be present at index i in a sorted array is present at either (i-1)th, ith, or (i+1)th index. \n",
    "\n",
    "- Compare element at [mid-1], [mid], [mid+1] with key, if present in any of these return that index, also validate that [mid-1] and [mid+1] should be in range of low and high\n",
    "- If key is less than [mid] -> move left part using [mid-2]\n",
    "- If key is greater than [mid] -> move right part using [mid+2]"
   ]
  },
  {
   "cell_type": "code",
   "execution_count": 4,
   "metadata": {},
   "outputs": [
    {
     "data": {
      "text/plain": [
       "4"
      ]
     },
     "execution_count": 4,
     "metadata": {},
     "output_type": "execute_result"
    }
   ],
   "source": [
    "def ModifiedBS(arr, key):\n",
    "    start = 0\n",
    "    end = len(arr) - 1\n",
    "    while start <= end:\n",
    "        mid = start + (end - start) // 2\n",
    "        if arr[mid] == key:\n",
    "            return mid\n",
    "        elif mid - 1 >= start and arr[mid-1] == key:\n",
    "            return mid-1\n",
    "        elif mid + 1 <= end and arr[mid+1] == key:\n",
    "            return mid+1\n",
    "        elif arr[mid] < key:\n",
    "            start = mid + 2\n",
    "        else:\n",
    "            end = mid - 2\n",
    "    return -1\n",
    "\n",
    "arr = [10, 20, 30, 50, 40]\n",
    "key = 40\n",
    "ModifiedBS(arr, key)"
   ]
  },
  {
   "cell_type": "markdown",
   "metadata": {},
   "source": [
    "### 10. Floor of an element in sorted array\n",
    "\n",
    "Set floor as -1\n",
    "\n",
    "- If mid element is key then return key\n",
    "- If [mid] is less than key -> update floor and search for better floor value in right of mid\n",
    "- If [mid] is greater than ket -> search the right part of mid"
   ]
  },
  {
   "cell_type": "code",
   "execution_count": 11,
   "metadata": {},
   "outputs": [
    {
     "data": {
      "text/plain": [
       "-1"
      ]
     },
     "execution_count": 11,
     "metadata": {},
     "output_type": "execute_result"
    }
   ],
   "source": [
    "def FloorBS(arr, key):\n",
    "    start = 0\n",
    "    end = len(arr) - 1\n",
    "    floor = -1\n",
    "    while start <= end:\n",
    "        mid = start + (end - start) // 2\n",
    "        if arr[mid] == key:\n",
    "            return arr[mid]\n",
    "        elif arr[mid] < key:\n",
    "            floor = arr[mid]\n",
    "            start = mid + 1\n",
    "        else:\n",
    "            end = mid - 1\n",
    "    return floor\n",
    "\n",
    "arr = [1, 2, 3, 4, 5]\n",
    "key = 0\n",
    "FloorBS(arr, key)\n",
    "                "
   ]
  },
  {
   "cell_type": "markdown",
   "metadata": {},
   "source": [
    "### 11. Ceil of an element in sorted array\n",
    "\n",
    "Set ceil as -1\n",
    "\n",
    "- If [mid] is equal to key, return it\n",
    "- If [mid] less than key -> search the right part of mid\n",
    "- If [mid] greater than key -> update ceil and search for better value in the left part of mid"
   ]
  },
  {
   "cell_type": "code",
   "execution_count": 17,
   "metadata": {},
   "outputs": [
    {
     "data": {
      "text/plain": [
       "2"
      ]
     },
     "execution_count": 17,
     "metadata": {},
     "output_type": "execute_result"
    }
   ],
   "source": [
    "def CeilBS(arr, key):\n",
    "    start = 0\n",
    "    end = len(arr) - 1\n",
    "    ceil = float('inf')\n",
    "    \n",
    "    while start <= end:\n",
    "        mid = start + (end - start) // 2\n",
    "        if arr[mid] == key:\n",
    "            return arr[mid]\n",
    "        elif arr[mid] > key:\n",
    "            ceil = arr[mid]\n",
    "            end = mid - 1\n",
    "        else:\n",
    "            start = mid + 1\n",
    "    return ceil\n",
    "\n",
    "arr = [1, 2, 3, 4, 5]\n",
    "key = 1.8\n",
    "CeilBS(arr, key)"
   ]
  },
  {
   "cell_type": "markdown",
   "metadata": {},
   "source": [
    "### 12. Next Alphabetical element\n",
    "\n",
    "We need to find the ceil of key, 2 difference exist\n",
    "\n",
    "- Character array is given\n",
    "- Search the right part even when [mid] is equal to key"
   ]
  },
  {
   "cell_type": "code",
   "execution_count": 24,
   "metadata": {},
   "outputs": [
    {
     "data": {
      "text/plain": [
       "'h'"
      ]
     },
     "execution_count": 24,
     "metadata": {},
     "output_type": "execute_result"
    }
   ],
   "source": [
    "def AlphabetCeil(arr, key):\n",
    "    start = 0\n",
    "    end = len(arr) - 1\n",
    "    res = '#'\n",
    "    \n",
    "    while start <= end:\n",
    "        mid = start + (end - start) // 2\n",
    "        \n",
    "        if arr[mid] > key:\n",
    "            res = arr[mid]\n",
    "            end = mid - 1\n",
    "        else:\n",
    "            start = mid + 1\n",
    "    return res\n",
    "\n",
    "arr = ['a', 'c', 'f', 'h']\n",
    "key = 'g'\n",
    "AlphabetCeil(arr, key)\n",
    "        "
   ]
  },
  {
   "cell_type": "markdown",
   "metadata": {},
   "source": [
    "### 13. Searching in Infinite Array\n",
    "\n",
    "- Initialise start as first index and end as second index. Double the value of end in each iteration until the value of element at end becomes less than key also set start to the previous end.\n",
    "- Now search for the key in this range of start and end."
   ]
  },
  {
   "cell_type": "code",
   "execution_count": 37,
   "metadata": {},
   "outputs": [
    {
     "name": "stdout",
     "output_type": "stream",
     "text": [
      "0 1\n",
      "1 2\n",
      "2 4\n",
      "4 8\n",
      "0 4 2\n",
      "3 4 3\n"
     ]
    },
    {
     "data": {
      "text/plain": [
       "7"
      ]
     },
     "execution_count": 37,
     "metadata": {},
     "output_type": "execute_result"
    }
   ],
   "source": [
    "def InfiniteBS(arr, key):\n",
    "    start = 0\n",
    "    end = 1\n",
    "    while arr[end] < key:\n",
    "        print(start, end)\n",
    "        start = end\n",
    "        end = end * 2\n",
    "    print(start, end)\n",
    "    return start + BinarySearch(arr[start:end+1], key)\n",
    "\n",
    "arr = [i for i in range(50)]\n",
    "key = 7\n",
    "InfiniteBS(arr, key)"
   ]
  },
  {
   "cell_type": "markdown",
   "metadata": {},
   "source": [
    "### 14. Index of first 1 in Infinite Sorted array\n",
    "\n",
    "- Initialise start as first index, end as second index. Double the value of end at each iteration until we found 1 at index end also keep updating start as previous end.\n",
    "- Now find the first occurance of 1 in this new range."
   ]
  },
  {
   "cell_type": "code",
   "execution_count": 3,
   "metadata": {},
   "outputs": [
    {
     "data": {
      "text/plain": [
       "15"
      ]
     },
     "execution_count": 3,
     "metadata": {},
     "output_type": "execute_result"
    }
   ],
   "source": [
    "def FirstOne(arr):\n",
    "    start = 0\n",
    "    end = 1\n",
    "    while arr[end] == 0:\n",
    "        start = end\n",
    "        end = end * 2\n",
    "    res = -1\n",
    "    while start <= end:\n",
    "        mid = start + (end - start) // 2\n",
    "        if arr[mid] == 1:\n",
    "            res = mid\n",
    "            end = mid - 1\n",
    "        else:\n",
    "            start = mid + 1\n",
    "    return res\n",
    "        \n",
    "    \n",
    "arr = [0 for i in range(15)] + [1 for i in range(20)]\n",
    "FirstOne(arr)"
   ]
  },
  {
   "cell_type": "markdown",
   "metadata": {},
   "source": [
    "### 15. Minimum Difference element in sorted array\n",
    "\n",
    "The idea here is to find the index of key in array.\n",
    "\n",
    "- If the key is present return the key.\n",
    "- If the key is not present then the binary search will end in a state where the start and end pointer will be pointing to index where the key should have been present. Hence find the difference of these values with key and return minimum."
   ]
  },
  {
   "cell_type": "code",
   "execution_count": 13,
   "metadata": {},
   "outputs": [
    {
     "data": {
      "text/plain": [
       "10"
      ]
     },
     "execution_count": 13,
     "metadata": {},
     "output_type": "execute_result"
    }
   ],
   "source": [
    "def MinDiffBS(arr, key):\n",
    "    if key < arr[0]:\n",
    "        return arr[0]\n",
    "    elif key > arr[-1]:\n",
    "        return arr[-1]\n",
    "    \n",
    "    start = 0\n",
    "    end = len(arr) - 1\n",
    "    \n",
    "    while start <= end:\n",
    "        mid = start + (end - start) // 2\n",
    "        if arr[mid] == key:\n",
    "            return arr[mid]\n",
    "        elif arr[mid] < key:\n",
    "            start = mid + 1\n",
    "        else:\n",
    "            end = mid - 1\n",
    "    if abs(arr[end] - key) < abs(arr[start] - key):\n",
    "        return arr[end]\n",
    "    else:\n",
    "        return arr[start]\n",
    "\n",
    "arr = [1, 3, 8, 10, 15]\n",
    "key = 12\n",
    "MinDiffBS(arr, key)"
   ]
  },
  {
   "cell_type": "markdown",
   "metadata": {},
   "source": [
    "### 16. Peak Element\n",
    "\n",
    "The idea here is to find the element which is greater than both its neighbour. Peak may also exist index 0 or last index, so check for them.\n",
    "\n",
    "- If [mid] is greater then both neighbours, return that index\n",
    "- Otherwise move to the part where neighbour is greater than [mid]\n",
    "- If [mid+1] is greater than [mid] -> move to right part\n",
    "- Otherwise to left part"
   ]
  },
  {
   "cell_type": "code",
   "execution_count": 8,
   "metadata": {},
   "outputs": [
    {
     "data": {
      "text/plain": [
       "3"
      ]
     },
     "execution_count": 8,
     "metadata": {},
     "output_type": "execute_result"
    }
   ],
   "source": [
    "def findPeak(arr):\n",
    "    start = 0\n",
    "    end = len(arr) - 1\n",
    "    while start <= end:\n",
    "        mid = start + (end - start)//2\n",
    "        if mid == 0 and arr[mid] > arr[mid+1]:\n",
    "            return mid\n",
    "        elif mid == len(arr)-1 and arr[mid]>arr[mid-1]:\n",
    "            return mid\n",
    "        elif arr[mid]>arr[mid+1] and arr[mid]>arr[mid-1]:\n",
    "            return mid\n",
    "        elif arr[mid] > arr[mid-1]:\n",
    "            start = mid + 1\n",
    "        else:\n",
    "            end = mid -1\n",
    "        \n",
    "arr = [1, 2, 8, 12, 4, 2, 10]\n",
    "findPeak(arr)"
   ]
  },
  {
   "cell_type": "markdown",
   "metadata": {},
   "source": [
    "### 17. Find maximum in Bitonic Array\n",
    "\n",
    "In other words, it can be interpreted as finding peak of the bitonic array.\n",
    "\n",
    "Bitonic array - which monotically increases and then decreases"
   ]
  },
  {
   "cell_type": "code",
   "execution_count": 10,
   "metadata": {},
   "outputs": [
    {
     "data": {
      "text/plain": [
       "3"
      ]
     },
     "execution_count": 10,
     "metadata": {},
     "output_type": "execute_result"
    }
   ],
   "source": [
    "def findPeakBitonic(arr):\n",
    "    start = 0\n",
    "    end = len(arr) - 1\n",
    "    \n",
    "    while start <= end:\n",
    "        mid = start + (end - start) //2\n",
    "        if arr[mid] > arr[mid-1] and arr[mid] > arr[mid+1]:\n",
    "            return mid\n",
    "        elif arr[mid] > arr[mid-1]:\n",
    "            start = mid + 1\n",
    "        else:\n",
    "            end = mid - 1\n",
    "arr = [1, 2, 4, 8, 2]\n",
    "findPeakBitonic(arr)"
   ]
  },
  {
   "cell_type": "markdown",
   "metadata": {},
   "source": [
    "### 18. Searching an element in Bitonic Array\n",
    "\n",
    "- Find the index of the peak point. Divide the array into two parts.\n",
    "- First part is ascending and second part is descending. Apply binary search on both parts."
   ]
  },
  {
   "cell_type": "code",
   "execution_count": 19,
   "metadata": {},
   "outputs": [
    {
     "name": "stdout",
     "output_type": "stream",
     "text": [
      "0 4 2\n",
      "0 1 0\n",
      "1 1 1\n",
      "0 4 2\n",
      "3 4 3\n",
      "4 4 4\n"
     ]
    },
    {
     "data": {
      "text/plain": [
       "1"
      ]
     },
     "execution_count": 19,
     "metadata": {},
     "output_type": "execute_result"
    }
   ],
   "source": [
    "def searchBitonic(arr, key):\n",
    "    index = findPeakBitonic(arr)\n",
    "    i1 = BinarySearch(arr, key)\n",
    "    i2 = DescendingBS(arr, key)\n",
    "    if i1 != -1:\n",
    "        return i1\n",
    "    else:\n",
    "        return i2\n",
    "\n",
    "arr = [1, 2, 4, 8, 3]  # Passed array should be Bitonic\n",
    "key = 2\n",
    "searchBitonic(arr, key)"
   ]
  },
  {
   "cell_type": "markdown",
   "metadata": {},
   "source": [
    "### 19. Search row-wise + column-wise sorted array  O(N<sup>2</sup>) --> O(N+M)\n",
    "\n",
    "Start with top-right corner.\n",
    "\n",
    "- Perform the below steps until index goes to out of bound.\n",
    "- If current element is equal to key, return index.\n",
    "- If current element is greater than key, ignore the whole column and move left.\n",
    "- If current element is less than key, increase the row."
   ]
  },
  {
   "cell_type": "code",
   "execution_count": 25,
   "metadata": {},
   "outputs": [
    {
     "data": {
      "text/plain": [
       "(2, 1)"
      ]
     },
     "execution_count": 25,
     "metadata": {},
     "output_type": "execute_result"
    }
   ],
   "source": [
    "def search2D(arr, key):\n",
    "    m = len(arr)\n",
    "    n = len(arr[0])\n",
    "    \n",
    "    i = 0\n",
    "    j = n-1\n",
    "    \n",
    "    while i>=0 and i<m and j>=0 and j<n:\n",
    "        if arr[i][j] == key:\n",
    "            return (i,j) \n",
    "        if arr[i][j] > key:\n",
    "            j-=1\n",
    "        if arr[i][j] < key:\n",
    "            i+=1\n",
    "    return -1\n",
    "\n",
    "arr = [[10, 20, 30, 40], [15, 25, 35, 45], [27, 29, 37, 45], [32, 33, 39, 50]]\n",
    "key = 29\n",
    "search2D(arr, key)"
   ]
  },
  {
   "cell_type": "code",
   "execution_count": null,
   "metadata": {},
   "outputs": [],
   "source": [
    "def isValid(arr, k, )\n",
    "def allocate(arr, k):\n",
    "    if len(arr) < k:\n",
    "        return -1\n",
    "    \n",
    "    start = max(arr)\n",
    "    end = sum(arr)\n",
    "    res = -1\n",
    "    while start <= end:\n",
    "        mid = start + (end - start)//2\n",
    "        \n",
    "        if isValid(arr, k, res):\n",
    "            res = mid\n",
    "            end = mid - 1\n",
    "        else:\n",
    "            start = mid + 1\n",
    "            \n",
    "arr = [10, 20, 30, 40]\n",
    "k = 2\n",
    "allocate(arr, k)"
   ]
  }
 ],
 "metadata": {
  "kernelspec": {
   "display_name": "Python 3",
   "language": "python",
   "name": "python3"
  },
  "language_info": {
   "codemirror_mode": {
    "name": "ipython",
    "version": 3
   },
   "file_extension": ".py",
   "mimetype": "text/x-python",
   "name": "python",
   "nbconvert_exporter": "python",
   "pygments_lexer": "ipython3",
   "version": "3.6.4"
  }
 },
 "nbformat": 4,
 "nbformat_minor": 2
}
