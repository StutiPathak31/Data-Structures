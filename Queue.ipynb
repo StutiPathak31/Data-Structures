{
 "cells": [
  {
   "cell_type": "markdown",
   "metadata": {},
   "source": [
    "# 1. Object Oriented Approach"
   ]
  },
  {
   "cell_type": "code",
   "execution_count": 1,
   "metadata": {},
   "outputs": [],
   "source": [
    "class Queue:\n",
    "    \n",
    "    # Default constructor to instantiate the initial parameters\n",
    "    def __init__(self):\n",
    "        self.front = -1\n",
    "        self.rear = -1\n",
    "        self.maxsize = 10\n",
    "        self.arr = [-1]*self.maxsize\n",
    "    \n",
    "    # Function to check if queue is empty or not\n",
    "    def isEmpty(self):\n",
    "        return self.front == -1\n",
    "    \n",
    "    # Function to check if queue is full or not\n",
    "    def isFull(self):\n",
    "        return self.rear == self.maxsize\n",
    "    \n",
    "    # Function to insert value to the rear of the queue\n",
    "    def insert(self, val):\n",
    "        if self.isFull():\n",
    "            print(\"Queue overflow\")\n",
    "        else:\n",
    "            self.rear+=1\n",
    "            self.arr[self.rear] = val\n",
    "            if self.front == -1:\n",
    "                self.front += 1\n",
    "            \n",
    "    # Function to delete front element from the queue\n",
    "    def delete(self):\n",
    "        val = -1\n",
    "        if self.isEmpty():\n",
    "            print(\"Queue underflow\")\n",
    "        else:\n",
    "            val = self.arr[self.front]\n",
    "            self.front += 1\n",
    "            if self.front > self.rear:\n",
    "                self.front = self.rear = -1\n",
    "        return val    "
   ]
  },
  {
   "cell_type": "code",
   "execution_count": 2,
   "metadata": {},
   "outputs": [
    {
     "name": "stdout",
     "output_type": "stream",
     "text": [
      "1\n",
      "2\n",
      "3\n",
      "4\n",
      "5\n"
     ]
    }
   ],
   "source": [
    "# Below code makes the use of above Queue class\n",
    "q = Queue()\n",
    "for i in range(1,6):\n",
    "    q.insert(i)\n",
    "\n",
    "while not q.isEmpty():\n",
    "    print(q.delete())"
   ]
  },
  {
   "cell_type": "markdown",
   "metadata": {},
   "source": [
    "# 2. Using list to implement queue\n",
    "\n",
    "List can be used to implement queue in a very manner but the disadvantage is that deletion takes O(n) time instead of O(1) time with this approach.\n",
    "<ul>\n",
    "<li>append() - It is used to insert element at last.</li>\n",
    "\n",
    "<li>q[1:] - Slicing is used to remove first element.</li>\n",
    "</ul>"
   ]
  },
  {
   "cell_type": "code",
   "execution_count": 3,
   "metadata": {},
   "outputs": [
    {
     "name": "stdout",
     "output_type": "stream",
     "text": [
      "1\n",
      "2\n",
      "3\n",
      "4\n",
      "5\n"
     ]
    }
   ],
   "source": [
    "q = []\n",
    "for i in range(1,6):\n",
    "    q.append(i)\n",
    "\n",
    "while len(q):\n",
    "    val = q[0]\n",
    "    q = q[1:] # This slicing step takes O(n) time\n",
    "    print(val)"
   ]
  },
  {
   "cell_type": "markdown",
   "metadata": {},
   "source": [
    "# 3. Using Python's inbuilt deque as queue\n",
    "\n",
    "Collection package offers inbuilt deque which can be used as queue.\n",
    "\n",
    "The main advantage of it over list implementation is that it provides deletion in O(1) time.\n",
    "<ul>\n",
    "<li>append() - It is used to add element to the end of the queue.</li>\n",
    "\n",
    "<li>popleft() - It is used to remove the first element from left in O(1) time.</li>\n",
    "</ul>"
   ]
  },
  {
   "cell_type": "code",
   "execution_count": 4,
   "metadata": {},
   "outputs": [
    {
     "name": "stdout",
     "output_type": "stream",
     "text": [
      "1\n",
      "2\n",
      "3\n",
      "4\n",
      "5\n"
     ]
    }
   ],
   "source": [
    "from collections import deque\n",
    "\n",
    "q = deque()\n",
    "for i in range(1,6):\n",
    "    q.append(i)\n",
    "    \n",
    "while q:\n",
    "    val = q[0]\n",
    "    q.popleft()\n",
    "    print(val)"
   ]
  },
  {
   "cell_type": "markdown",
   "metadata": {},
   "source": [
    "# 4. Linked implementation of Queue"
   ]
  },
  {
   "cell_type": "code",
   "execution_count": 5,
   "metadata": {},
   "outputs": [],
   "source": [
    "class Node:\n",
    "    def __init__(self, val):\n",
    "        self.key = val\n",
    "        self.next = None\n",
    "\n",
    "class LinkedQueue:\n",
    "    def __init__(self):\n",
    "        self.front = None\n",
    "        self.rear = None\n",
    "    \n",
    "    def insert(self, val):\n",
    "        new = Node(val)\n",
    "        if self.front == None:\n",
    "            self.front = self.rear = new\n",
    "        else:\n",
    "            curr = self.front\n",
    "            while curr.next != None:\n",
    "                curr = curr.next\n",
    "            curr.next = new\n",
    "            self.rear = new\n",
    "    \n",
    "    def delete(self):\n",
    "        if self.front == None:\n",
    "            return None\n",
    "        else:\n",
    "            val = self.front.key\n",
    "            self.front = self.front.next\n",
    "            if self.front == None:\n",
    "                self.rear = self.front\n",
    "            return val\n"
   ]
  },
  {
   "cell_type": "code",
   "execution_count": 6,
   "metadata": {},
   "outputs": [
    {
     "name": "stdout",
     "output_type": "stream",
     "text": [
      "1\n",
      "2\n",
      "3\n",
      "4\n",
      "5\n"
     ]
    }
   ],
   "source": [
    "q = LinkedQueue()\n",
    "for i in range(1,6):\n",
    "    q.insert(i)\n",
    "\n",
    "val = q.delete()\n",
    "while val!=None:\n",
    "    print(val)\n",
    "    val = q.delete()"
   ]
  },
  {
   "cell_type": "code",
   "execution_count": null,
   "metadata": {},
   "outputs": [],
   "source": []
  }
 ],
 "metadata": {
  "kernelspec": {
   "display_name": "Python 3",
   "language": "python",
   "name": "python3"
  },
  "language_info": {
   "codemirror_mode": {
    "name": "ipython",
    "version": 3
   },
   "file_extension": ".py",
   "mimetype": "text/x-python",
   "name": "python",
   "nbconvert_exporter": "python",
   "pygments_lexer": "ipython3",
   "version": "3.6.4"
  }
 },
 "nbformat": 4,
 "nbformat_minor": 2
}
