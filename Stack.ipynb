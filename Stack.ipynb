{
 "cells": [
  {
   "cell_type": "markdown",
   "metadata": {},
   "source": [
    "### Object Oriented Approach"
   ]
  },
  {
   "cell_type": "code",
   "execution_count": 1,
   "metadata": {},
   "outputs": [],
   "source": [
    "class Stack:\n",
    "    \n",
    "    # Default constructor to initialise stack and maxsize\n",
    "    def __init__(self):\n",
    "        self.top = -1\n",
    "        self.maxsize = 10\n",
    "        self.l = [-1]*self.maxsize\n",
    "        \n",
    "    # Method to check if the stack is empty or not\n",
    "    def isEmpty(self):\n",
    "        return self.top == -1\n",
    "    \n",
    "    # Method to check if the stack is full or not\n",
    "    def isFull(self):\n",
    "        return self.top == self.maxsize\n",
    "    \n",
    "    # Method to push an element into the stack\n",
    "    def push(self, val):\n",
    "        if self.isFull():\n",
    "            print(\"Stack Overflow\")\n",
    "        else:\n",
    "            self.top += 1\n",
    "            self.l[self.top] = val\n",
    "            \n",
    "    # Method to remove an element from the top of the stack\n",
    "    def pop(self):\n",
    "        val = -1\n",
    "        if self.isEmpty():\n",
    "            print(\"Stack Underflow\")\n",
    "        else:\n",
    "            val = self.l[self.top]\n",
    "            self.top -= 1\n",
    "        return val\n",
    "        \n",
    "    def peep(self):\n",
    "        if self.isEmpty():\n",
    "            print(\"Stack Underflow\")\n",
    "        else:\n",
    "            return self.l[self.top]\n",
    "        "
   ]
  },
  {
   "cell_type": "code",
   "execution_count": 2,
   "metadata": {},
   "outputs": [
    {
     "name": "stdout",
     "output_type": "stream",
     "text": [
      "1\n",
      "2\n",
      "3\n",
      "4\n",
      "5\n",
      "Stack Underflow\n"
     ]
    }
   ],
   "source": [
    "# Below code make use of the above stack class\n",
    "st = Stack()\n",
    "for i in range(5,0,-1):\n",
    "    st.push(i)\n",
    "    \n",
    "v = st.pop()\n",
    "while v!=-1:\n",
    "    print(v)\n",
    "    v = st.pop()"
   ]
  },
  {
   "cell_type": "markdown",
   "metadata": {},
   "source": [
    "### Pythonic way (Using list)"
   ]
  },
  {
   "cell_type": "markdown",
   "metadata": {},
   "source": [
    "Python's inbuilt data type can be used to implement stack.\n",
    "\n",
    "append() - It can be used as push function of stack.\n",
    "\n",
    "pop() - It can be used as pop function of stack.\n",
    "\n",
    "len() - It can be used to check whether stack is full or empty."
   ]
  },
  {
   "cell_type": "code",
   "execution_count": 3,
   "metadata": {},
   "outputs": [
    {
     "name": "stdout",
     "output_type": "stream",
     "text": [
      "1\n",
      "2\n",
      "3\n",
      "4\n",
      "5\n"
     ]
    }
   ],
   "source": [
    "st = []\n",
    "for i in range(5,0,-1):\n",
    "    st.append(i)\n",
    "    \n",
    "while len(st):\n",
    "    print(st.pop())"
   ]
  },
  {
   "cell_type": "markdown",
   "metadata": {},
   "source": [
    "### Implementation of stack using Linked List"
   ]
  },
  {
   "cell_type": "code",
   "execution_count": 4,
   "metadata": {},
   "outputs": [],
   "source": [
    "class Node:\n",
    "    def __init__(self,val):\n",
    "        self.key = val\n",
    "        self.next = None\n",
    "            \n",
    "class LinkedStack:\n",
    "    \n",
    "    def __init__(self):\n",
    "        self.top = None\n",
    "        \n",
    "    def push(self,val):\n",
    "        new = Node(val)\n",
    "        if self.top == None:\n",
    "            self.top = new\n",
    "        else:\n",
    "            temp = self.top\n",
    "            new.next = self.top\n",
    "            self.top = new\n",
    "            \n",
    "    def pop(self):\n",
    "        if self.top == None:\n",
    "            return -1\n",
    "        else:\n",
    "            v = self.top.key\n",
    "            self.top = self.top.next\n",
    "            return v\n",
    "        "
   ]
  },
  {
   "cell_type": "code",
   "execution_count": 5,
   "metadata": {},
   "outputs": [
    {
     "name": "stdout",
     "output_type": "stream",
     "text": [
      "1\n",
      "2\n",
      "3\n",
      "4\n",
      "5\n"
     ]
    }
   ],
   "source": [
    "st = LinkedStack()\n",
    "for i in range(5,0,-1):\n",
    "    st.push(i)\n",
    "    \n",
    "v = st.pop()\n",
    "while v!=-1:\n",
    "    print(v)\n",
    "    v = st.pop()\n",
    "                 "
   ]
  },
  {
   "cell_type": "code",
   "execution_count": null,
   "metadata": {},
   "outputs": [],
   "source": []
  }
 ],
 "metadata": {
  "kernelspec": {
   "display_name": "Python 3",
   "language": "python",
   "name": "python3"
  },
  "language_info": {
   "codemirror_mode": {
    "name": "ipython",
    "version": 3
   },
   "file_extension": ".py",
   "mimetype": "text/x-python",
   "name": "python",
   "nbconvert_exporter": "python",
   "pygments_lexer": "ipython3",
   "version": "3.6.4"
  }
 },
 "nbformat": 4,
 "nbformat_minor": 2
}
